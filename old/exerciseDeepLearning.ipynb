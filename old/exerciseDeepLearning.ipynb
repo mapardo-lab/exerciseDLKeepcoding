{
 "cells": [
  {
   "cell_type": "code",
   "execution_count": 37,
   "id": "2b9b2f4a-2a40-4ab4-a8ff-a829d7515c48",
   "metadata": {},
   "outputs": [],
   "source": [
    "import pandas as pd\n",
    "\n",
    "from sklearn.model_selection import train_test_split\n",
    "from ast import literal_eval\n",
    "from collections import Counter"
   ]
  },
  {
   "cell_type": "code",
   "execution_count": null,
   "id": "6a16a301-ca9d-4b7b-953a-5b568bb5121c",
   "metadata": {},
   "outputs": [],
   "source": [
    "# Random seed\n",
    "random_seed = 42"
   ]
  },
  {
   "cell_type": "code",
   "execution_count": 12,
   "id": "2bc2f23d-ae8f-4bf2-b51e-6c30ae51ea67",
   "metadata": {},
   "outputs": [],
   "source": [
    "# Load dataset\n",
    "poi_data = pd.read_csv(\"./poi_dataset.csv\")\n"
   ]
  },
  {
   "cell_type": "code",
   "execution_count": 4,
   "id": "15859379-f903-4c7c-8073-661c9ca3838e",
   "metadata": {},
   "outputs": [
    {
     "name": "stdout",
     "output_type": "stream",
     "text": [
      "Number of samples: 1569\n",
      "Number of features: 14\n"
     ]
    }
   ],
   "source": [
    "print(f'Number of samples: {poi_data.shape[0]}\\nNumber of features: {poi_data.shape[1]}')"
   ]
  },
  {
   "cell_type": "code",
   "execution_count": 13,
   "id": "eae7580d-5f8d-4d58-b653-e1501903c4f4",
   "metadata": {},
   "outputs": [
    {
     "name": "stdout",
     "output_type": "stream",
     "text": [
      "Number of samples for train dataset: 1255\n",
      "Number of samples for test dataset: 314\n"
     ]
    }
   ],
   "source": [
    "# Split dataset into train (80%) and test (20%)\n",
    "df_train, df_test = train_test_split(\n",
    "    poi_data, test_size = 0.2, shuffle = True, random_state = random_seed\n",
    ")\n",
    "print(f'Number of samples for train dataset: {df_train.shape[0]}')\n",
    "print(f'Number of samples for test dataset: {df_test.shape[0]}')"
   ]
  },
  {
   "cell_type": "code",
   "execution_count": 9,
   "id": "402054be-96a8-48c3-8a97-b1562295b12b",
   "metadata": {},
   "outputs": [
    {
     "data": {
      "text/html": [
       "<div>\n",
       "<style scoped>\n",
       "    .dataframe tbody tr th:only-of-type {\n",
       "        vertical-align: middle;\n",
       "    }\n",
       "\n",
       "    .dataframe tbody tr th {\n",
       "        vertical-align: top;\n",
       "    }\n",
       "\n",
       "    .dataframe thead th {\n",
       "        text-align: right;\n",
       "    }\n",
       "</style>\n",
       "<table border=\"1\" class=\"dataframe\">\n",
       "  <thead>\n",
       "    <tr style=\"text-align: right;\">\n",
       "      <th></th>\n",
       "      <th>1332</th>\n",
       "      <th>218</th>\n",
       "      <th>1139</th>\n",
       "      <th>798</th>\n",
       "      <th>1093</th>\n",
       "    </tr>\n",
       "  </thead>\n",
       "  <tbody>\n",
       "    <tr>\n",
       "      <th>id</th>\n",
       "      <td>9c82ef56-c72f-4920-8ce4-0dfa1502cadd</td>\n",
       "      <td>57c6b7c4-cd3e-4815-aa1c-4caaefe401a1</td>\n",
       "      <td>a9de2887-7e81-4361-9da1-59ed4d721973</td>\n",
       "      <td>d2fbe9e1-2851-4fdd-9f83-a8c82d66966d</td>\n",
       "      <td>dd2dc1ca-c162-449e-8ef6-42329f8f3a50</td>\n",
       "    </tr>\n",
       "    <tr>\n",
       "      <th>name</th>\n",
       "      <td>Iglesia de Santa María Magdalena</td>\n",
       "      <td>Oficinas para Ramón López-Rumayor Lombera</td>\n",
       "      <td>Mosteiro de Santa María de Aciveiro</td>\n",
       "      <td>Las Lecturas del Dos de Mayo</td>\n",
       "      <td>P. Nacional Baixa Limi Serra do Xurés</td>\n",
       "    </tr>\n",
       "    <tr>\n",
       "      <th>shortDescription</th>\n",
       "      <td>Descubre la Iglesia de Santa María Magdalena, ...</td>\n",
       "      <td>Descubre las Oficinas de Ramón López-Rumayor: ...</td>\n",
       "      <td>¡Visita el Mosteiro de Santa María de Aciveiro...</td>\n",
       "      <td>Descubre \"Las Lecturas del Dos de Mayo\": arte ...</td>\n",
       "      <td>¡Explora Baixa Limia Serra do Xurés! Naturalez...</td>\n",
       "    </tr>\n",
       "    <tr>\n",
       "      <th>categories</th>\n",
       "      <td>['Patrimonio', 'Arquitectura', 'Historia', 'Mi...</td>\n",
       "      <td>['Patrimonio', 'Historia', 'Arquitectura']</td>\n",
       "      <td>['Cultura', 'Patrimonio', 'Historia']</td>\n",
       "      <td>['Historia', 'Cultura', 'Escultura']</td>\n",
       "      <td>['Ocio', 'Historia', 'Naturaleza']</td>\n",
       "    </tr>\n",
       "    <tr>\n",
       "      <th>tier</th>\n",
       "      <td>1</td>\n",
       "      <td>2</td>\n",
       "      <td>1</td>\n",
       "      <td>2</td>\n",
       "      <td>1</td>\n",
       "    </tr>\n",
       "    <tr>\n",
       "      <th>locationLon</th>\n",
       "      <td>-5.750341</td>\n",
       "      <td>-3.704964</td>\n",
       "      <td>-8.301667</td>\n",
       "      <td>-3.704193</td>\n",
       "      <td>-8.059333</td>\n",
       "    </tr>\n",
       "    <tr>\n",
       "      <th>locationLat</th>\n",
       "      <td>41.501305</td>\n",
       "      <td>40.42052</td>\n",
       "      <td>42.6175</td>\n",
       "      <td>40.426795</td>\n",
       "      <td>41.896111</td>\n",
       "    </tr>\n",
       "    <tr>\n",
       "      <th>tags</th>\n",
       "      <td>['Templo', 'Templarios', 'Magdalena', 'Iglesia...</td>\n",
       "      <td>['Evolución urbana', 'Decoración decó', 'Const...</td>\n",
       "      <td>['Bien de Interés Cultural', 'Monumento Histór...</td>\n",
       "      <td>['Madrid', 'Creatividad', 'Universidad', 'Cono...</td>\n",
       "      <td>['Naturaleza', 'Senderismo', 'Protección ambie...</td>\n",
       "    </tr>\n",
       "    <tr>\n",
       "      <th>xps</th>\n",
       "      <td>1000</td>\n",
       "      <td>600</td>\n",
       "      <td>1000</td>\n",
       "      <td>600</td>\n",
       "      <td>1000</td>\n",
       "    </tr>\n",
       "    <tr>\n",
       "      <th>Visits</th>\n",
       "      <td>10014</td>\n",
       "      <td>10011</td>\n",
       "      <td>10009</td>\n",
       "      <td>10017</td>\n",
       "      <td>10022</td>\n",
       "    </tr>\n",
       "    <tr>\n",
       "      <th>Likes</th>\n",
       "      <td>6882</td>\n",
       "      <td>940</td>\n",
       "      <td>8961</td>\n",
       "      <td>547</td>\n",
       "      <td>798</td>\n",
       "    </tr>\n",
       "    <tr>\n",
       "      <th>Dislikes</th>\n",
       "      <td>1963</td>\n",
       "      <td>2871</td>\n",
       "      <td>141</td>\n",
       "      <td>8881</td>\n",
       "      <td>3074</td>\n",
       "    </tr>\n",
       "    <tr>\n",
       "      <th>Bookmarks</th>\n",
       "      <td>1130</td>\n",
       "      <td>136</td>\n",
       "      <td>2366</td>\n",
       "      <td>162</td>\n",
       "      <td>94</td>\n",
       "    </tr>\n",
       "    <tr>\n",
       "      <th>main_image_path</th>\n",
       "      <td>data_main/9c82ef56-c72f-4920-8ce4-0dfa1502cadd...</td>\n",
       "      <td>data_main/57c6b7c4-cd3e-4815-aa1c-4caaefe401a1...</td>\n",
       "      <td>data_main/a9de2887-7e81-4361-9da1-59ed4d721973...</td>\n",
       "      <td>data_main/d2fbe9e1-2851-4fdd-9f83-a8c82d66966d...</td>\n",
       "      <td>data_main/dd2dc1ca-c162-449e-8ef6-42329f8f3a50...</td>\n",
       "    </tr>\n",
       "  </tbody>\n",
       "</table>\n",
       "</div>"
      ],
      "text/plain": [
       "                                                               1332  \\\n",
       "id                             9c82ef56-c72f-4920-8ce4-0dfa1502cadd   \n",
       "name                               Iglesia de Santa María Magdalena   \n",
       "shortDescription  Descubre la Iglesia de Santa María Magdalena, ...   \n",
       "categories        ['Patrimonio', 'Arquitectura', 'Historia', 'Mi...   \n",
       "tier                                                              1   \n",
       "locationLon                                               -5.750341   \n",
       "locationLat                                               41.501305   \n",
       "tags              ['Templo', 'Templarios', 'Magdalena', 'Iglesia...   \n",
       "xps                                                            1000   \n",
       "Visits                                                        10014   \n",
       "Likes                                                          6882   \n",
       "Dislikes                                                       1963   \n",
       "Bookmarks                                                      1130   \n",
       "main_image_path   data_main/9c82ef56-c72f-4920-8ce4-0dfa1502cadd...   \n",
       "\n",
       "                                                               218   \\\n",
       "id                             57c6b7c4-cd3e-4815-aa1c-4caaefe401a1   \n",
       "name                      Oficinas para Ramón López-Rumayor Lombera   \n",
       "shortDescription  Descubre las Oficinas de Ramón López-Rumayor: ...   \n",
       "categories               ['Patrimonio', 'Historia', 'Arquitectura']   \n",
       "tier                                                              2   \n",
       "locationLon                                               -3.704964   \n",
       "locationLat                                                40.42052   \n",
       "tags              ['Evolución urbana', 'Decoración decó', 'Const...   \n",
       "xps                                                             600   \n",
       "Visits                                                        10011   \n",
       "Likes                                                           940   \n",
       "Dislikes                                                       2871   \n",
       "Bookmarks                                                       136   \n",
       "main_image_path   data_main/57c6b7c4-cd3e-4815-aa1c-4caaefe401a1...   \n",
       "\n",
       "                                                               1139  \\\n",
       "id                             a9de2887-7e81-4361-9da1-59ed4d721973   \n",
       "name                            Mosteiro de Santa María de Aciveiro   \n",
       "shortDescription  ¡Visita el Mosteiro de Santa María de Aciveiro...   \n",
       "categories                    ['Cultura', 'Patrimonio', 'Historia']   \n",
       "tier                                                              1   \n",
       "locationLon                                               -8.301667   \n",
       "locationLat                                                 42.6175   \n",
       "tags              ['Bien de Interés Cultural', 'Monumento Histór...   \n",
       "xps                                                            1000   \n",
       "Visits                                                        10009   \n",
       "Likes                                                          8961   \n",
       "Dislikes                                                        141   \n",
       "Bookmarks                                                      2366   \n",
       "main_image_path   data_main/a9de2887-7e81-4361-9da1-59ed4d721973...   \n",
       "\n",
       "                                                               798   \\\n",
       "id                             d2fbe9e1-2851-4fdd-9f83-a8c82d66966d   \n",
       "name                                   Las Lecturas del Dos de Mayo   \n",
       "shortDescription  Descubre \"Las Lecturas del Dos de Mayo\": arte ...   \n",
       "categories                     ['Historia', 'Cultura', 'Escultura']   \n",
       "tier                                                              2   \n",
       "locationLon                                               -3.704193   \n",
       "locationLat                                               40.426795   \n",
       "tags              ['Madrid', 'Creatividad', 'Universidad', 'Cono...   \n",
       "xps                                                             600   \n",
       "Visits                                                        10017   \n",
       "Likes                                                           547   \n",
       "Dislikes                                                       8881   \n",
       "Bookmarks                                                       162   \n",
       "main_image_path   data_main/d2fbe9e1-2851-4fdd-9f83-a8c82d66966d...   \n",
       "\n",
       "                                                               1093  \n",
       "id                             dd2dc1ca-c162-449e-8ef6-42329f8f3a50  \n",
       "name                          P. Nacional Baixa Limi Serra do Xurés  \n",
       "shortDescription  ¡Explora Baixa Limia Serra do Xurés! Naturalez...  \n",
       "categories                       ['Ocio', 'Historia', 'Naturaleza']  \n",
       "tier                                                              1  \n",
       "locationLon                                               -8.059333  \n",
       "locationLat                                               41.896111  \n",
       "tags              ['Naturaleza', 'Senderismo', 'Protección ambie...  \n",
       "xps                                                            1000  \n",
       "Visits                                                        10022  \n",
       "Likes                                                           798  \n",
       "Dislikes                                                       3074  \n",
       "Bookmarks                                                        94  \n",
       "main_image_path   data_main/dd2dc1ca-c162-449e-8ef6-42329f8f3a50...  "
      ]
     },
     "execution_count": 9,
     "metadata": {},
     "output_type": "execute_result"
    }
   ],
   "source": [
    "df_train.head().T"
   ]
  },
  {
   "cell_type": "code",
   "execution_count": 28,
   "id": "7c1d2883-0df0-4858-b669-f14c93d61c24",
   "metadata": {},
   "outputs": [],
   "source": [
    "# Convert column of strings 'categories' to a column of lists\n",
    "df_train['categories'] = df_train['categories'].apply(literal_eval)"
   ]
  },
  {
   "cell_type": "code",
   "execution_count": 34,
   "id": "b2c0584a-085d-4343-a643-68d70a707f27",
   "metadata": {},
   "outputs": [
    {
     "data": {
      "text/plain": [
       "{'Arquitectura',\n",
       " 'Ciencia',\n",
       " 'Cine',\n",
       " 'Cultura',\n",
       " 'Escultura',\n",
       " 'Gastronomía',\n",
       " 'Historia',\n",
       " 'Misterio',\n",
       " 'Naturaleza',\n",
       " 'Ocio',\n",
       " 'Patrimonio',\n",
       " 'Pintura'}"
      ]
     },
     "execution_count": 34,
     "metadata": {},
     "output_type": "execute_result"
    }
   ],
   "source": [
    "# Unique values for column 'categories'\n",
    "set(sum(df_train['categories'].tolist(), []))"
   ]
  },
  {
   "cell_type": "code",
   "execution_count": 35,
   "id": "aaf27995-af12-4d65-a74f-ba75e2c698e5",
   "metadata": {},
   "outputs": [],
   "source": [
    "# Convert column of strings 'categories' to a column of lists\n",
    "df_train['tags'] = df_train['tags'].apply(literal_eval)"
   ]
  },
  {
   "cell_type": "code",
   "execution_count": 49,
   "id": "559285a7-8c82-4622-9a4b-bd802b661673",
   "metadata": {},
   "outputs": [
    {
     "data": {
      "text/plain": [
       "2478"
      ]
     },
     "execution_count": 49,
     "metadata": {},
     "output_type": "execute_result"
    }
   ],
   "source": [
    "# TODO Show a resume of the first and the last ones\n",
    "len(Counter(sum(df_train['tags'].tolist(), [])))"
   ]
  },
  {
   "cell_type": "code",
   "execution_count": 50,
   "id": "71135dc1-a041-426e-856c-3fb8d0056409",
   "metadata": {},
   "outputs": [],
   "source": [
    "# TODO Use all values in 'tags' as features"
   ]
  },
  {
   "cell_type": "code",
   "execution_count": null,
   "id": "0071b086-8366-438d-95a4-f3370db1bd87",
   "metadata": {},
   "outputs": [],
   "source": []
  },
  {
   "cell_type": "code",
   "execution_count": 2,
   "id": "1656d903-6270-4525-9785-872efb9196f7",
   "metadata": {},
   "outputs": [
    {
     "ename": "ImportError",
     "evalue": "/home/mapardo/miniconda3/envs/DL/lib/python3.12/site-packages/torch/../../../libtorch_python.so: undefined symbol: _ZN5torch3jit5fuser6onednn9fuseGraphERSt10shared_ptrINS0_5GraphEE",
     "output_type": "error",
     "traceback": [
      "\u001b[31m---------------------------------------------------------------------------\u001b[39m",
      "\u001b[31mImportError\u001b[39m                               Traceback (most recent call last)",
      "\u001b[36mCell\u001b[39m\u001b[36m \u001b[39m\u001b[32mIn[2]\u001b[39m\u001b[32m, line 1\u001b[39m\n\u001b[32m----> \u001b[39m\u001b[32m1\u001b[39m \u001b[38;5;28;01mimport\u001b[39;00m\u001b[38;5;250m \u001b[39m\u001b[34;01mtorch\u001b[39;00m\n",
      "\u001b[36mFile \u001b[39m\u001b[32m~/miniconda3/envs/DL/lib/python3.12/site-packages/torch/__init__.py:367\u001b[39m\n\u001b[32m    365\u001b[39m     \u001b[38;5;28;01mif\u001b[39;00m USE_GLOBAL_DEPS:\n\u001b[32m    366\u001b[39m         _load_global_deps()\n\u001b[32m--> \u001b[39m\u001b[32m367\u001b[39m     \u001b[38;5;28;01mfrom\u001b[39;00m\u001b[38;5;250m \u001b[39m\u001b[34;01mtorch\u001b[39;00m\u001b[34;01m.\u001b[39;00m\u001b[34;01m_C\u001b[39;00m\u001b[38;5;250m \u001b[39m\u001b[38;5;28;01mimport\u001b[39;00m *  \u001b[38;5;66;03m# noqa: F403\u001b[39;00m\n\u001b[32m    370\u001b[39m \u001b[38;5;28;01mclass\u001b[39;00m\u001b[38;5;250m \u001b[39m\u001b[34;01mSymInt\u001b[39;00m:\n\u001b[32m    371\u001b[39m \u001b[38;5;250m    \u001b[39m\u001b[33;03m\"\"\"\u001b[39;00m\n\u001b[32m    372\u001b[39m \u001b[33;03m    Like an int (including magic methods), but redirects all operations on the\u001b[39;00m\n\u001b[32m    373\u001b[39m \u001b[33;03m    wrapped node. This is used in particular to symbolically record operations\u001b[39;00m\n\u001b[32m    374\u001b[39m \u001b[33;03m    in the symbolic shape workflow.\u001b[39;00m\n\u001b[32m    375\u001b[39m \u001b[33;03m    \"\"\"\u001b[39;00m\n",
      "\u001b[31mImportError\u001b[39m: /home/mapardo/miniconda3/envs/DL/lib/python3.12/site-packages/torch/../../../libtorch_python.so: undefined symbol: _ZN5torch3jit5fuser6onednn9fuseGraphERSt10shared_ptrINS0_5GraphEE"
     ]
    }
   ],
   "source": [
    "import torch"
   ]
  },
  {
   "cell_type": "code",
   "execution_count": 1,
   "id": "f05203e7-fbb8-47a9-8b3d-3985b0b29566",
   "metadata": {},
   "outputs": [
    {
     "ename": "ImportError",
     "evalue": "/home/mapardo/miniconda3/envs/DL/lib/python3.12/site-packages/torch/../../../libtorch_python.so: undefined symbol: _ZN5torch3jit5fuser6onednn9fuseGraphERSt10shared_ptrINS0_5GraphEE",
     "output_type": "error",
     "traceback": [
      "\u001b[31m---------------------------------------------------------------------------\u001b[39m",
      "\u001b[31mImportError\u001b[39m                               Traceback (most recent call last)",
      "\u001b[36mCell\u001b[39m\u001b[36m \u001b[39m\u001b[32mIn[1]\u001b[39m\u001b[32m, line 1\u001b[39m\n\u001b[32m----> \u001b[39m\u001b[32m1\u001b[39m \u001b[38;5;28;01mimport\u001b[39;00m\u001b[38;5;250m \u001b[39m\u001b[34;01mtorch\u001b[39;00m\n\u001b[32m      2\u001b[39m \u001b[38;5;28;01mimport\u001b[39;00m\u001b[38;5;250m \u001b[39m\u001b[34;01mnumpy\u001b[39;00m\u001b[38;5;250m \u001b[39m\u001b[38;5;28;01mas\u001b[39;00m\u001b[38;5;250m \u001b[39m\u001b[34;01mnp\u001b[39;00m\n\u001b[32m      4\u001b[39m \u001b[38;5;66;03m# Make use of a GPU or MPS (Apple) if one is available.\u001b[39;00m\n",
      "\u001b[36mFile \u001b[39m\u001b[32m~/miniconda3/envs/DL/lib/python3.12/site-packages/torch/__init__.py:367\u001b[39m\n\u001b[32m    365\u001b[39m     \u001b[38;5;28;01mif\u001b[39;00m USE_GLOBAL_DEPS:\n\u001b[32m    366\u001b[39m         _load_global_deps()\n\u001b[32m--> \u001b[39m\u001b[32m367\u001b[39m     \u001b[38;5;28;01mfrom\u001b[39;00m\u001b[38;5;250m \u001b[39m\u001b[34;01mtorch\u001b[39;00m\u001b[34;01m.\u001b[39;00m\u001b[34;01m_C\u001b[39;00m\u001b[38;5;250m \u001b[39m\u001b[38;5;28;01mimport\u001b[39;00m *  \u001b[38;5;66;03m# noqa: F403\u001b[39;00m\n\u001b[32m    370\u001b[39m \u001b[38;5;28;01mclass\u001b[39;00m\u001b[38;5;250m \u001b[39m\u001b[34;01mSymInt\u001b[39;00m:\n\u001b[32m    371\u001b[39m \u001b[38;5;250m    \u001b[39m\u001b[33;03m\"\"\"\u001b[39;00m\n\u001b[32m    372\u001b[39m \u001b[33;03m    Like an int (including magic methods), but redirects all operations on the\u001b[39;00m\n\u001b[32m    373\u001b[39m \u001b[33;03m    wrapped node. This is used in particular to symbolically record operations\u001b[39;00m\n\u001b[32m    374\u001b[39m \u001b[33;03m    in the symbolic shape workflow.\u001b[39;00m\n\u001b[32m    375\u001b[39m \u001b[33;03m    \"\"\"\u001b[39;00m\n",
      "\u001b[31mImportError\u001b[39m: /home/mapardo/miniconda3/envs/DL/lib/python3.12/site-packages/torch/../../../libtorch_python.so: undefined symbol: _ZN5torch3jit5fuser6onednn9fuseGraphERSt10shared_ptrINS0_5GraphEE"
     ]
    }
   ],
   "source": [
    "import torch\n",
    "import numpy as np\n",
    "\n",
    "# Make use of a GPU or MPS (Apple) if one is available.\n",
    "device = (\n",
    "    \"mps\"\n",
    "    if getattr(torch, \"has_mps\", False)\n",
    "    else \"cuda\"\n",
    "    if torch.cuda.is_available()\n",
    "    else \"cpu\"\n",
    ")\n",
    "print(f\"Using device: {device}\")\n",
    "\n",
    "# Mostrar información adicional del dispositivo (sólo si es una GPU)\n",
    "if device == \"cuda\":\n",
    "    print(f\"CUDA Device Name: {torch.cuda.get_device_name(0)}\")\n",
    "    print(f\"CUDA Device Count: {torch.cuda.device_count()}\")\n",
    "    print(f\"CUDA Device Properties: {torch.cuda.get_device_properties(0)}\")\n",
    "elif device == \"mps\":\n",
    "    print(\"Using Apple Metal Performance Shaders (MPS)\")\n",
    "    print(f\"MPS Device: {torch.backends.mps.is_available()}\")\n",
    "    print(f\"MPS Built: {torch.backends.mps.is_built()}\")\n",
    "else:\n",
    "    print(\"Using CPU\")\n",
    "    print(f\"Number of CPU threads available: {torch.get_num_threads()}\")\n"
   ]
  },
  {
   "cell_type": "code",
   "execution_count": null,
   "id": "5256da07-93ef-4086-b9ce-92c618a39ba3",
   "metadata": {},
   "outputs": [],
   "source": []
  }
 ],
 "metadata": {
  "kernelspec": {
   "display_name": "Python 3 (ipykernel)",
   "language": "python",
   "name": "python3"
  },
  "language_info": {
   "codemirror_mode": {
    "name": "ipython",
    "version": 3
   },
   "file_extension": ".py",
   "mimetype": "text/x-python",
   "name": "python",
   "nbconvert_exporter": "python",
   "pygments_lexer": "ipython3",
   "version": "3.12.9"
  }
 },
 "nbformat": 4,
 "nbformat_minor": 5
}
